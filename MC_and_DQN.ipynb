{
  "nbformat": 4,
  "nbformat_minor": 0,
  "metadata": {
    "colab": {
      "name": "MC and DQN.ipynb",
      "provenance": [],
      "collapsed_sections": []
    },
    "kernelspec": {
      "name": "python3",
      "display_name": "Python 3"
    }
  },
  "cells": [
    {
      "cell_type": "code",
      "metadata": {
        "id": "lB78Or1dPomJ",
        "colab": {
          "base_uri": "https://localhost:8080/"
        },
        "outputId": "2a1baece-9cd0-42c7-89ea-ed3fb8a9da41"
      },
      "source": [
        "!apt-get update\n",
        "!apt-get install python-opengl -y\n",
        "!apt install xvfb -y\n",
        "!pip install pyvirtualdisplay\n",
        "!pip install piglet\n",
        "!pip install gym\n",
        "!pip install gym[atari]\n",
        "!pip install torchtrainer"
      ],
      "execution_count": 1,
      "outputs": [
        {
          "output_type": "stream",
          "text": [
            "\r0% [Working]\r            \rIgn:1 https://developer.download.nvidia.com/compute/cuda/repos/ubuntu1804/x86_64  InRelease\n",
            "Get:2 https://cloud.r-project.org/bin/linux/ubuntu bionic-cran40/ InRelease [3,626 B]\n",
            "Ign:3 https://developer.download.nvidia.com/compute/machine-learning/repos/ubuntu1804/x86_64  InRelease\n",
            "Hit:4 https://developer.download.nvidia.com/compute/cuda/repos/ubuntu1804/x86_64  Release\n",
            "Hit:5 http://archive.ubuntu.com/ubuntu bionic InRelease\n",
            "Hit:6 https://developer.download.nvidia.com/compute/machine-learning/repos/ubuntu1804/x86_64  Release\n",
            "Get:7 http://ppa.launchpad.net/c2d4u.team/c2d4u4.0+/ubuntu bionic InRelease [15.9 kB]\n",
            "Get:8 http://security.ubuntu.com/ubuntu bionic-security InRelease [88.7 kB]\n",
            "Get:9 http://archive.ubuntu.com/ubuntu bionic-updates InRelease [88.7 kB]\n",
            "Get:10 https://cloud.r-project.org/bin/linux/ubuntu bionic-cran40/ Packages [52.7 kB]\n",
            "Hit:11 http://ppa.launchpad.net/cran/libgit2/ubuntu bionic InRelease\n",
            "Get:12 http://archive.ubuntu.com/ubuntu bionic-backports InRelease [74.6 kB]\n",
            "Get:13 http://ppa.launchpad.net/deadsnakes/ppa/ubuntu bionic InRelease [15.9 kB]\n",
            "Hit:15 http://ppa.launchpad.net/graphics-drivers/ppa/ubuntu bionic InRelease\n",
            "Get:17 http://ppa.launchpad.net/c2d4u.team/c2d4u4.0+/ubuntu bionic/main Sources [1,750 kB]\n",
            "Get:18 http://security.ubuntu.com/ubuntu bionic-security/main amd64 Packages [2,045 kB]\n",
            "Get:19 http://archive.ubuntu.com/ubuntu bionic-updates/universe amd64 Packages [2,172 kB]\n",
            "Get:20 http://security.ubuntu.com/ubuntu bionic-security/universe amd64 Packages [1,402 kB]\n",
            "Get:21 http://ppa.launchpad.net/c2d4u.team/c2d4u4.0+/ubuntu bionic/main amd64 Packages [895 kB]\n",
            "Get:22 http://archive.ubuntu.com/ubuntu bionic-updates/main amd64 Packages [2,476 kB]\n",
            "Get:23 http://ppa.launchpad.net/deadsnakes/ppa/ubuntu bionic/main amd64 Packages [39.5 kB]\n",
            "Fetched 11.1 MB in 4s (2,889 kB/s)\n",
            "Reading package lists... Done\n",
            "Reading package lists... Done\n",
            "Building dependency tree       \n",
            "Reading state information... Done\n",
            "Suggested packages:\n",
            "  libgle3\n",
            "The following NEW packages will be installed:\n",
            "  python-opengl\n",
            "0 upgraded, 1 newly installed, 0 to remove and 54 not upgraded.\n",
            "Need to get 496 kB of archives.\n",
            "After this operation, 5,416 kB of additional disk space will be used.\n",
            "Get:1 http://archive.ubuntu.com/ubuntu bionic/universe amd64 python-opengl all 3.1.0+dfsg-1 [496 kB]\n",
            "Fetched 496 kB in 1s (683 kB/s)\n",
            "Selecting previously unselected package python-opengl.\n",
            "(Reading database ... 160980 files and directories currently installed.)\n",
            "Preparing to unpack .../python-opengl_3.1.0+dfsg-1_all.deb ...\n",
            "Unpacking python-opengl (3.1.0+dfsg-1) ...\n",
            "Setting up python-opengl (3.1.0+dfsg-1) ...\n",
            "Reading package lists... Done\n",
            "Building dependency tree       \n",
            "Reading state information... Done\n",
            "The following NEW packages will be installed:\n",
            "  xvfb\n",
            "0 upgraded, 1 newly installed, 0 to remove and 54 not upgraded.\n",
            "Need to get 784 kB of archives.\n",
            "After this operation, 2,270 kB of additional disk space will be used.\n",
            "Get:1 http://archive.ubuntu.com/ubuntu bionic-updates/universe amd64 xvfb amd64 2:1.19.6-1ubuntu4.8 [784 kB]\n",
            "Fetched 784 kB in 1s (949 kB/s)\n",
            "Selecting previously unselected package xvfb.\n",
            "(Reading database ... 163335 files and directories currently installed.)\n",
            "Preparing to unpack .../xvfb_2%3a1.19.6-1ubuntu4.8_amd64.deb ...\n",
            "Unpacking xvfb (2:1.19.6-1ubuntu4.8) ...\n",
            "Setting up xvfb (2:1.19.6-1ubuntu4.8) ...\n",
            "Processing triggers for man-db (2.8.3-2ubuntu0.1) ...\n",
            "Collecting pyvirtualdisplay\n",
            "  Downloading https://files.pythonhosted.org/packages/19/88/7a198a5ee3baa3d547f5a49574cd8c3913b216f5276b690b028f89ffb325/PyVirtualDisplay-2.1-py3-none-any.whl\n",
            "Collecting EasyProcess\n",
            "  Downloading https://files.pythonhosted.org/packages/48/3c/75573613641c90c6d094059ac28adb748560d99bd27ee6f80cce398f404e/EasyProcess-0.3-py2.py3-none-any.whl\n",
            "Installing collected packages: EasyProcess, pyvirtualdisplay\n",
            "Successfully installed EasyProcess-0.3 pyvirtualdisplay-2.1\n",
            "Collecting piglet\n",
            "  Downloading https://files.pythonhosted.org/packages/11/56/6840e5f45626dc7eb7cd5dff57d11880b3113723b3b7b1fb1fa537855b75/piglet-1.0.0-py2.py3-none-any.whl\n",
            "Collecting piglet-templates\n",
            "\u001b[?25l  Downloading https://files.pythonhosted.org/packages/34/1e/49d7e0df9420eeb13a636487b8e606cf099f2ee0793159edd8ffe905125b/piglet_templates-1.1.0-py3-none-any.whl (63kB)\n",
            "\u001b[K     |████████████████████████████████| 71kB 3.5MB/s \n",
            "\u001b[?25hRequirement already satisfied: markupsafe in /usr/local/lib/python3.7/dist-packages (from piglet-templates->piglet) (1.1.1)\n",
            "Requirement already satisfied: attrs in /usr/local/lib/python3.7/dist-packages (from piglet-templates->piglet) (20.3.0)\n",
            "Requirement already satisfied: astunparse in /usr/local/lib/python3.7/dist-packages (from piglet-templates->piglet) (1.6.3)\n",
            "Collecting Parsley\n",
            "\u001b[?25l  Downloading https://files.pythonhosted.org/packages/2b/d6/4fed8d65e28a970e1c5cb33ce9c7e22e3de745e1b2ae37af051ef16aea3b/Parsley-1.3-py2.py3-none-any.whl (88kB)\n",
            "\u001b[K     |████████████████████████████████| 92kB 4.9MB/s \n",
            "\u001b[?25hRequirement already satisfied: wheel<1.0,>=0.23.0 in /usr/local/lib/python3.7/dist-packages (from astunparse->piglet-templates->piglet) (0.36.2)\n",
            "Requirement already satisfied: six<2.0,>=1.6.1 in /usr/local/lib/python3.7/dist-packages (from astunparse->piglet-templates->piglet) (1.15.0)\n",
            "Installing collected packages: Parsley, piglet-templates, piglet\n",
            "Successfully installed Parsley-1.3 piglet-1.0.0 piglet-templates-1.1.0\n",
            "Requirement already satisfied: gym in /usr/local/lib/python3.7/dist-packages (0.17.3)\n",
            "Requirement already satisfied: numpy>=1.10.4 in /usr/local/lib/python3.7/dist-packages (from gym) (1.19.5)\n",
            "Requirement already satisfied: cloudpickle<1.7.0,>=1.2.0 in /usr/local/lib/python3.7/dist-packages (from gym) (1.3.0)\n",
            "Requirement already satisfied: pyglet<=1.5.0,>=1.4.0 in /usr/local/lib/python3.7/dist-packages (from gym) (1.5.0)\n",
            "Requirement already satisfied: scipy in /usr/local/lib/python3.7/dist-packages (from gym) (1.4.1)\n",
            "Requirement already satisfied: future in /usr/local/lib/python3.7/dist-packages (from pyglet<=1.5.0,>=1.4.0->gym) (0.16.0)\n",
            "Requirement already satisfied: gym[atari] in /usr/local/lib/python3.7/dist-packages (0.17.3)\n",
            "Requirement already satisfied: cloudpickle<1.7.0,>=1.2.0 in /usr/local/lib/python3.7/dist-packages (from gym[atari]) (1.3.0)\n",
            "Requirement already satisfied: pyglet<=1.5.0,>=1.4.0 in /usr/local/lib/python3.7/dist-packages (from gym[atari]) (1.5.0)\n",
            "Requirement already satisfied: scipy in /usr/local/lib/python3.7/dist-packages (from gym[atari]) (1.4.1)\n",
            "Requirement already satisfied: numpy>=1.10.4 in /usr/local/lib/python3.7/dist-packages (from gym[atari]) (1.19.5)\n",
            "Requirement already satisfied: atari-py~=0.2.0; extra == \"atari\" in /usr/local/lib/python3.7/dist-packages (from gym[atari]) (0.2.6)\n",
            "Requirement already satisfied: Pillow; extra == \"atari\" in /usr/local/lib/python3.7/dist-packages (from gym[atari]) (7.1.2)\n",
            "Requirement already satisfied: opencv-python; extra == \"atari\" in /usr/local/lib/python3.7/dist-packages (from gym[atari]) (4.1.2.30)\n",
            "Requirement already satisfied: future in /usr/local/lib/python3.7/dist-packages (from pyglet<=1.5.0,>=1.4.0->gym[atari]) (0.16.0)\n",
            "Requirement already satisfied: six in /usr/local/lib/python3.7/dist-packages (from atari-py~=0.2.0; extra == \"atari\"->gym[atari]) (1.15.0)\n",
            "Collecting torchtrainer\n",
            "  Downloading https://files.pythonhosted.org/packages/0f/f2/dfd32580bed08a4dd01c4d1d9b6f95fef5d9041f0a975d3bdb1f2f1150e5/torchtrainer-0.3.9-py3-none-any.whl\n",
            "Requirement already satisfied: torch<2.0,>=1.2 in /usr/local/lib/python3.7/dist-packages (from torchtrainer) (1.8.1+cu101)\n",
            "Collecting torchvision<0.5.0,>=0.4.0\n",
            "\u001b[?25l  Downloading https://files.pythonhosted.org/packages/74/ee/d872c12ea508f9cca4cf0d7b91fc5a5e476cec77628a66795ec5a585a67f/torchvision-0.4.2-cp37-cp37m-manylinux1_x86_64.whl (10.2MB)\n",
            "\u001b[K     |████████████████████████████████| 10.2MB 5.3MB/s \n",
            "\u001b[?25hRequirement already satisfied: tqdm<5.0,>=4.33 in /usr/local/lib/python3.7/dist-packages (from torchtrainer) (4.41.1)\n",
            "Collecting visdom<0.2.0,>=0.1.8\n",
            "\u001b[?25l  Downloading https://files.pythonhosted.org/packages/c9/75/e078f5a2e1df7e0d3044749089fc2823e62d029cc027ed8ae5d71fafcbdc/visdom-0.1.8.9.tar.gz (676kB)\n",
            "\u001b[K     |████████████████████████████████| 686kB 38.4MB/s \n",
            "\u001b[?25hRequirement already satisfied: typing-extensions in /usr/local/lib/python3.7/dist-packages (from torch<2.0,>=1.2->torchtrainer) (3.7.4.3)\n",
            "Requirement already satisfied: numpy in /usr/local/lib/python3.7/dist-packages (from torch<2.0,>=1.2->torchtrainer) (1.19.5)\n",
            "Requirement already satisfied: pillow>=4.1.1 in /usr/local/lib/python3.7/dist-packages (from torchvision<0.5.0,>=0.4.0->torchtrainer) (7.1.2)\n",
            "Requirement already satisfied: six in /usr/local/lib/python3.7/dist-packages (from torchvision<0.5.0,>=0.4.0->torchtrainer) (1.15.0)\n",
            "Requirement already satisfied: scipy in /usr/local/lib/python3.7/dist-packages (from visdom<0.2.0,>=0.1.8->torchtrainer) (1.4.1)\n",
            "Requirement already satisfied: requests in /usr/local/lib/python3.7/dist-packages (from visdom<0.2.0,>=0.1.8->torchtrainer) (2.23.0)\n",
            "Requirement already satisfied: tornado in /usr/local/lib/python3.7/dist-packages (from visdom<0.2.0,>=0.1.8->torchtrainer) (5.1.1)\n",
            "Requirement already satisfied: pyzmq in /usr/local/lib/python3.7/dist-packages (from visdom<0.2.0,>=0.1.8->torchtrainer) (22.0.3)\n",
            "Collecting jsonpatch\n",
            "  Downloading https://files.pythonhosted.org/packages/a3/55/f7c93bae36d869292aedfbcbae8b091386194874f16390d680136edd2b28/jsonpatch-1.32-py2.py3-none-any.whl\n",
            "Collecting torchfile\n",
            "  Downloading https://files.pythonhosted.org/packages/91/af/5b305f86f2d218091af657ddb53f984ecbd9518ca9fe8ef4103a007252c9/torchfile-0.1.0.tar.gz\n",
            "Collecting websocket-client\n",
            "\u001b[?25l  Downloading https://files.pythonhosted.org/packages/08/33/80e0d4f60e84a1ddd9a03f340be1065a2a363c47ce65c4bd3bae65ce9631/websocket_client-0.58.0-py2.py3-none-any.whl (61kB)\n",
            "\u001b[K     |████████████████████████████████| 61kB 5.6MB/s \n",
            "\u001b[?25hRequirement already satisfied: urllib3!=1.25.0,!=1.25.1,<1.26,>=1.21.1 in /usr/local/lib/python3.7/dist-packages (from requests->visdom<0.2.0,>=0.1.8->torchtrainer) (1.24.3)\n",
            "Requirement already satisfied: chardet<4,>=3.0.2 in /usr/local/lib/python3.7/dist-packages (from requests->visdom<0.2.0,>=0.1.8->torchtrainer) (3.0.4)\n",
            "Requirement already satisfied: idna<3,>=2.5 in /usr/local/lib/python3.7/dist-packages (from requests->visdom<0.2.0,>=0.1.8->torchtrainer) (2.10)\n",
            "Requirement already satisfied: certifi>=2017.4.17 in /usr/local/lib/python3.7/dist-packages (from requests->visdom<0.2.0,>=0.1.8->torchtrainer) (2020.12.5)\n",
            "Collecting jsonpointer>=1.9\n",
            "  Downloading https://files.pythonhosted.org/packages/23/52/05f67532aa922e494c351344e0d9624a01f74f5dd8402fe0d1b563a6e6fc/jsonpointer-2.1-py2.py3-none-any.whl\n",
            "Building wheels for collected packages: visdom, torchfile\n",
            "  Building wheel for visdom (setup.py) ... \u001b[?25l\u001b[?25hdone\n",
            "  Created wheel for visdom: filename=visdom-0.1.8.9-cp37-none-any.whl size=655251 sha256=0b29a8bfc25f6e4f86796e0d1f1df39195b4107601f1fb39937a667da523ad18\n",
            "  Stored in directory: /root/.cache/pip/wheels/70/19/a7/6d589ed967f4dfefd33bc166d081257bd4ed0cb618dccfd62a\n",
            "  Building wheel for torchfile (setup.py) ... \u001b[?25l\u001b[?25hdone\n",
            "  Created wheel for torchfile: filename=torchfile-0.1.0-cp37-none-any.whl size=5713 sha256=fd51f5880b6faaebf6aa4f44e96a02429e4d242e3e10255fdd4d85a3743d543c\n",
            "  Stored in directory: /root/.cache/pip/wheels/b1/c3/d6/9a1cc8f3a99a0fc1124cae20153f36af59a6e683daca0a0814\n",
            "Successfully built visdom torchfile\n",
            "\u001b[31mERROR: torchvision 0.4.2 has requirement torch==1.3.1, but you'll have torch 1.8.1+cu101 which is incompatible.\u001b[0m\n",
            "Installing collected packages: torchvision, jsonpointer, jsonpatch, torchfile, websocket-client, visdom, torchtrainer\n",
            "  Found existing installation: torchvision 0.9.1+cu101\n",
            "    Uninstalling torchvision-0.9.1+cu101:\n",
            "      Successfully uninstalled torchvision-0.9.1+cu101\n",
            "Successfully installed jsonpatch-1.32 jsonpointer-2.1 torchfile-0.1.0 torchtrainer-0.3.9 torchvision-0.4.2 visdom-0.1.8.9 websocket-client-0.58.0\n"
          ],
          "name": "stdout"
        }
      ]
    },
    {
      "cell_type": "code",
      "metadata": {
        "id": "R0mCF1CFQNZL",
        "colab": {
          "base_uri": "https://localhost:8080/"
        },
        "outputId": "7a97379b-e9f2-4906-9c30-d6e36a2dca91"
      },
      "source": [
        "!pip install pybullet"
      ],
      "execution_count": 2,
      "outputs": [
        {
          "output_type": "stream",
          "text": [
            "Collecting pybullet\n",
            "\u001b[?25l  Downloading https://files.pythonhosted.org/packages/fe/f0/cb894ec9fcd13859e5e27b9b58612f917e14fededccf4681f7aa70b63265/pybullet-3.1.2-cp37-cp37m-manylinux1_x86_64.whl (89.3MB)\n",
            "\u001b[K     |████████████████████████████████| 89.3MB 48kB/s \n",
            "\u001b[?25hRequirement already satisfied: numpy<=1.19.5 in /usr/local/lib/python3.7/dist-packages (from pybullet) (1.19.5)\n",
            "Installing collected packages: pybullet\n",
            "Successfully installed pybullet-3.1.2\n"
          ],
          "name": "stdout"
        }
      ]
    },
    {
      "cell_type": "code",
      "metadata": {
        "id": "Gmrqy0OuQSwV",
        "colab": {
          "base_uri": "https://localhost:8080/"
        },
        "outputId": "56b423f5-e7dc-4d3d-ce3f-9150083c285b"
      },
      "source": [
        "!git clone https://github.com/benelot/pybullet-gym.git"
      ],
      "execution_count": 3,
      "outputs": [
        {
          "output_type": "stream",
          "text": [
            "Cloning into 'pybullet-gym'...\n",
            "remote: Enumerating objects: 54, done.\u001b[K\n",
            "remote: Counting objects: 100% (54/54), done.\u001b[K\n",
            "remote: Compressing objects: 100% (49/49), done.\u001b[K\n",
            "remote: Total 804 (delta 21), reused 13 (delta 5), pack-reused 750\u001b[K\n",
            "Receiving objects: 100% (804/804), 19.31 MiB | 25.16 MiB/s, done.\n",
            "Resolving deltas: 100% (437/437), done.\n"
          ],
          "name": "stdout"
        }
      ]
    },
    {
      "cell_type": "code",
      "metadata": {
        "id": "09281o0JQVTH",
        "colab": {
          "base_uri": "https://localhost:8080/"
        },
        "outputId": "13c46e0c-32ce-46a9-8c70-b6a5af13bd93"
      },
      "source": [
        "cd /content/pybullet-gym/"
      ],
      "execution_count": 4,
      "outputs": [
        {
          "output_type": "stream",
          "text": [
            "/content/pybullet-gym\n"
          ],
          "name": "stdout"
        }
      ]
    },
    {
      "cell_type": "code",
      "metadata": {
        "id": "-ff99LeGQYOn",
        "colab": {
          "base_uri": "https://localhost:8080/"
        },
        "outputId": "f5bad22c-a7a4-4dc6-c721-bdb8175dde11"
      },
      "source": [
        "!pip install -e ."
      ],
      "execution_count": 5,
      "outputs": [
        {
          "output_type": "stream",
          "text": [
            "Obtaining file:///content/pybullet-gym\n",
            "Requirement already satisfied: pybullet>=1.7.8 in /usr/local/lib/python3.7/dist-packages (from pybulletgym==0.1) (3.1.2)\n",
            "Requirement already satisfied: numpy<=1.19.5 in /usr/local/lib/python3.7/dist-packages (from pybullet>=1.7.8->pybulletgym==0.1) (1.19.5)\n",
            "Installing collected packages: pybulletgym\n",
            "  Running setup.py develop for pybulletgym\n",
            "Successfully installed pybulletgym\n"
          ],
          "name": "stdout"
        }
      ]
    },
    {
      "cell_type": "code",
      "metadata": {
        "id": "F5V4fFpCQaXb"
      },
      "source": [
        "import gym\n",
        "from gym import logger as gymlogger\n",
        "from gym.wrappers import Monitor\n",
        "gymlogger.set_level(40) # error only\n",
        "import pybulletgym  # register PyBullet enviroments with open ai gym\n",
        "import pybullet\n",
        "import pybullet_data\n",
        "\n",
        "import numpy as np\n",
        "import random\n",
        "import matplotlib\n",
        "import matplotlib.pyplot as plt\n",
        "%matplotlib inline\n",
        "import math\n",
        "import glob\n",
        "import io\n",
        "import base64\n",
        "import time\n",
        "from IPython.display import HTML\n",
        "from IPython import display as ipythondisplay\n",
        "from collections import namedtuple\n",
        "from itertools import count\n",
        "\n",
        "# Colab comes with PyTorch\n",
        "import torch\n",
        "import torch.nn as nn\n",
        "import torch.autograd as autograd\n",
        "import torch.optim as optim\n",
        "import torch.nn.functional as F"
      ],
      "execution_count": 6,
      "outputs": []
    },
    {
      "cell_type": "code",
      "metadata": {
        "id": "9YTPDG1bUTh2"
      },
      "source": [
        "class Q_Net(nn.Module):\n",
        "  def __init__(self):\n",
        "    super().__init__()\n",
        "    self.layers = nn.Sequential(\n",
        "        nn.Linear(5, 125), # 4 observations and 1 action\n",
        "        nn.LeakyReLU(),\n",
        "        nn.Linear(125, 125), # Hidden layers\n",
        "        nn.LeakyReLU(),\n",
        "        nn.Linear(125, 1), # Q value\n",
        "    )\n",
        "\n",
        "  def forward(self, x):\n",
        "    return self.layers(x)"
      ],
      "execution_count": 7,
      "outputs": []
    },
    {
      "cell_type": "markdown",
      "metadata": {
        "id": "HieYqmnIN7VL"
      },
      "source": [
        "## InvertedPendulumMuJoCoEnv-v0\n",
        "InvertedPendulumMuJoCoEnv-v0 is used in the example, the action space is a single float value in (-1, 1), observation space is a tuple consists of 4 vals.\n",
        "\n",
        "\n",
        "The reward is 1, for each step that not lead to end of game. The goal for this game is to survive as many steps as possible\n",
        "\n",
        "\n",
        "Since MC only work in descrete domain, action space and observation space was splitted by a step of 0.1"
      ]
    },
    {
      "cell_type": "markdown",
      "metadata": {
        "id": "KTrHEiKZTwoi"
      },
      "source": [
        "### Monte Carlo"
      ]
    },
    {
      "cell_type": "code",
      "metadata": {
        "id": "q6llU5rB-91D"
      },
      "source": [
        "class MCMethod:\n",
        "  def __init__(self, n_episode, n_max_step, gamma):\n",
        "    self.episode = n_episode\n",
        "    self.maxStep = n_max_step\n",
        "    self.gamma = gamma\n",
        "    self.replayDict = {}\n",
        "    self.history = []\n",
        "  \n",
        "  def updatePolicy(self, replayBuffer):\n",
        "    replayBuffer = replayBuffer[::-1]\n",
        "    previous_r = 0\n",
        "    for s, a, r in replayBuffer:\n",
        "      s = np.round(s, 1)\n",
        "      a = a[0]\n",
        "      sum_r = self.gamma*previous_r + r\n",
        "      previous_r = sum_r\n",
        "      s = str(s)\n",
        "      if s in self.replayDict:\n",
        "        if a in self.replayDict[s]:\n",
        "          q, c = self.replayDict[s][a]\n",
        "          self.replayDict[s][a] = ((q*c+sum_r)/(c+1), c+1)\n",
        "        else:\n",
        "          self.replayDict[s][a] = (sum_r, 1)\n",
        "      else:\n",
        "        self.replayDict[s] = {}\n",
        "        self.replayDict[s][a] = (sum_r, 1)\n",
        "  \n",
        "  def chooseAction(self, state):\n",
        "    try:\n",
        "      s = np.round(state, 1)\n",
        "      s = str(s)\n",
        "      actions = self.replayDict[s]\n",
        "      if len(actions) < 8:\n",
        "        return np.round(self.env.action_space.sample(), 1)\n",
        "      max_step = np.round(self.env.action_space.sample(), 1)\n",
        "      max_reward = 0\n",
        "      for key in actions.keys():\n",
        "        q, c = actions[key]\n",
        "        if q > max_reward:\n",
        "          max_reward = q\n",
        "          max_step = key\n",
        "      return np.array([max_step])\n",
        "    except KeyError:\n",
        "      return np.round(self.env.action_space.sample(), 1)\n",
        "\n",
        "\n",
        "  def run(self):\n",
        "    self.env = gym.make(\"InvertedPendulumMuJoCoEnv-v0\")\n",
        "    t = 0\n",
        "    for i_epoch in range(self.episode):\n",
        "      observation = self.env.reset() # reset environment\n",
        "      buffer = []\n",
        "      step = 0\n",
        "      while True:\n",
        "        self.env.render()\n",
        "        s = observation\n",
        "        a = self.chooseAction(s)\n",
        "\n",
        "        observation, r, done, info = self.env.step(a) # s_prime: next observation, r: immediate reward, done: terminal state indicator\n",
        "        buffer.append((s, a, r))\n",
        "        t += 1\n",
        "        step += 1\n",
        "        # Ends this episode if reaching a terminal state\n",
        "        if done:\n",
        "          self.updatePolicy(buffer)\n",
        "          break\n",
        "      if i_epoch%self.maxStep == self.maxStep-1 :\n",
        "        self.history.append(t/self.maxStep)\n",
        "        print(\"average reward %d\"%(t/self.maxStep))\n",
        "        t = 0\n",
        "      #print(self.replayDict)\n",
        "      #print(self.decisionDict)\n",
        "    \n",
        "  def plot(self):\n",
        "    epochs = np.arange(self.maxStep, self.episode+1, self.maxStep)\n",
        "    plt.plot(epochs, self.history)"
      ],
      "execution_count": 14,
      "outputs": []
    },
    {
      "cell_type": "code",
      "metadata": {
        "colab": {
          "base_uri": "https://localhost:8080/",
          "height": 435
        },
        "id": "4cXUWvIYFu_l",
        "outputId": "9a34996e-d6fc-4745-cf75-0fb0d8d17809"
      },
      "source": [
        "model = MCMethod(5000, 500, 0.2)\n",
        "model.run()\n",
        "model.plot()"
      ],
      "execution_count": 15,
      "outputs": [
        {
          "output_type": "stream",
          "text": [
            "average reward 57\n",
            "average reward 99\n",
            "average reward 119\n",
            "average reward 143\n",
            "average reward 146\n",
            "average reward 155\n",
            "average reward 164\n",
            "average reward 166\n",
            "average reward 166\n",
            "average reward 171\n"
          ],
          "name": "stdout"
        },
        {
          "output_type": "display_data",
          "data": {
            "image/png": "[encoded data removed]",
            "text/plain": [
              "<Figure size 432x288 with 1 Axes>"
            ]
          },
          "metadata": {
            "tags": [],
            "needs_background": "light"
          }
        }
      ]
    },
    {
      "cell_type": "markdown",
      "metadata": {
        "id": "kL2MA3B4VBA5"
      },
      "source": [
        "### DQN"
      ]
    },
    {
      "cell_type": "code",
      "metadata": {
        "id": "mI5EvEKsVGt-"
      },
      "source": [
        "import copy # Use for target network copying & updating procedure\n",
        "class DQNMethod:\n",
        "  def __init__(self, n_episode, n_max_step, gamma, lr = 0.01):\n",
        "    self.episode = n_episode\n",
        "    self.maxStep = n_max_step\n",
        "    self.gamma = gamma\n",
        "    self.model = Q_Net()\n",
        "    self.optimizer = torch.optim.SGD(self.model.parameters(), lr)\n",
        "    self.loss_fn = torch.nn.MSELoss(reduction='mean')\n",
        "    self.exploringCount = 1000\n",
        "    self.transactionBuffer = [] # used for Q model bootstrapping\n",
        "    self.targetModel = None\n",
        "    self.bestModel = None\n",
        "    self.bestEval = 0\n",
        "    self.history = []\n",
        "\n",
        "  def saveData(self, replay):\n",
        "    previous_s = None\n",
        "    for s, a, r in replay:\n",
        "      self.transactionBuffer.append((s, a, previous_s, r))\n",
        "      previous_s = s\n",
        "\n",
        "  \n",
        "  def getQ(self, state):\n",
        "    possibleActon = [i/10 for i in range(-10, 11)]\n",
        "    if self.targetModel == None:\n",
        "      return 0\n",
        "    else:\n",
        "      pending_data = []\n",
        "      for action in possibleActon:\n",
        "        pending_data.append(list(state) + [action])\n",
        "      q = self.targetModel(torch.Tensor(pending_data)).tolist()\n",
        "      q = np.array(q).reshape(-1)\n",
        "      return np.max(q)\n",
        "\n",
        "  def update_model(self, replay):\n",
        "    self.saveData(replay)\n",
        "    trainSet = []\n",
        "    v_prev = 0\n",
        "    for s, a, next_s, r in self.transactionBuffer:\n",
        "      if next_s is None:\n",
        "        q_prev = 0\n",
        "      else:\n",
        "        q_prev = max(self.getQ(next_s), v_prev)\n",
        "      trainSet.append((list(s)+list(a), r+self.gamma*q_prev))\n",
        "      v_prev = r\n",
        "    self.transactionBuffer = [] # clear buffer\n",
        "    self.train_model(trainSet)\n",
        "\n",
        "  def bootstrapStep(self):    \n",
        "    self.targetModel = copy.deepcopy(self.model)\n",
        "    self.targetModel.eval()\n",
        "\n",
        "  def train_model(self, dataset, epochs = 1):\n",
        "    for _ in range(epochs):\n",
        "      random.shuffle(dataset)\n",
        "      data = []\n",
        "      label = []\n",
        "      for idx in range(len(dataset)):\n",
        "        data.append(dataset[idx][0])\n",
        "        label.append(dataset[idx][1])\n",
        "      data = torch.Tensor(data)\n",
        "      label = torch.Tensor(label)\n",
        "      epoch_loss = 0.0\n",
        "      for idx in range(len(data)):\n",
        "        y_pred = self.model(data[idx])\n",
        "        loss = self.loss_fn(y_pred, torch.tensor([label[idx]]))\n",
        "        self.optimizer.zero_grad()\n",
        "        loss.backward()\n",
        "        self.optimizer.step()\n",
        "        epoch_loss += loss.item()\n",
        "    #print(\"loss %.6f\"%(epoch_loss/epochs))\n",
        "\n",
        "  def chooseAction(self, state):\n",
        "    possible_action = [i/10 for i in range(-10, 11)]\n",
        "    if self.targetModel == None or random.random() < 0.05: # the policy have a prob of 5% to select random action to explore the environment while bootstraping\n",
        "      return np.array([random.choice(possible_action)])\n",
        "    data = []\n",
        "    for action in possible_action: # Slicing the actions with 0.01 step in (-1,1)\n",
        "      data.append(list(state)+list([action]))\n",
        "    idx = np.argmax(np.array(self.targetModel(torch.Tensor(data)).tolist()).reshape(-1)) # evaluate the actions and select the one with most Q\n",
        "    selection = possible_action[idx]\n",
        "    return np.array([selection]) # avoid model return value out of (-1, 1)\n",
        "\n",
        "  def run(self):\n",
        "    self.env = gym.make(\"InvertedPendulumMuJoCoEnv-v0\")\n",
        "    t = 0\n",
        "    for i_episode in range(self.episode):\n",
        "      observation = self.env.reset() # reset environment\n",
        "      buffer = []\n",
        "      step = 0\n",
        "      while True:\n",
        "        self.env.render()\n",
        "        s = observation\n",
        "        a = self.chooseAction(s)\n",
        "\n",
        "        observation, r, done, info = self.env.step(a) # s_prime: next observation, r: immediate reward, done: terminal state indicator\n",
        "        buffer.append((s, a, r))\n",
        "        t += 1\n",
        "        step += 1\n",
        "        # Ends this episode if reaching a terminal state\n",
        "        if done:\n",
        "          self.update_model(buffer)\n",
        "          break\n",
        "      if i_episode % self.maxStep == self.maxStep-1:\n",
        "        self.bootstrapStep()\n",
        "        print(\"average survived step\", t/self.maxStep)\n",
        "        self.history.append(t/self.maxStep)\n",
        "  \n",
        "  def plot(self):\n",
        "    epochs = np.arange(self.maxStep, self.episode+1, self.maxStep)\n",
        "    plt.plot(epochs, self.history)"
      ],
      "execution_count": 16,
      "outputs": []
    },
    {
      "cell_type": "code",
      "metadata": {
        "id": "XskdYljTVGuG",
        "colab": {
          "base_uri": "https://localhost:8080/",
          "height": 437
        },
        "outputId": "9537329f-4f7c-4fc6-9ae4-0b50cb0f2971"
      },
      "source": [
        "\"\"\"\n",
        "evaluate your algorithm here\n",
        "\"\"\"\n",
        "model = DQNMethod(5000, 500, 0.2, lr=0.01)\n",
        "model.run()\n",
        "model.plot()"
      ],
      "execution_count": 17,
      "outputs": [
        {
          "output_type": "stream",
          "text": [
            "average survived step 25.298\n",
            "average survived step 36.326\n",
            "average survived step 64.462\n",
            "average survived step 86.77\n",
            "average survived step 104.726\n",
            "average survived step 122.028\n",
            "average survived step 136.608\n",
            "average survived step 146.108\n",
            "average survived step 162.48\n",
            "average survived step 174.16\n"
          ],
          "name": "stdout"
        },
        {
          "output_type": "display_data",
          "data": {
            "image/png": "[encoded data removed]",
            "text/plain": [
              "<Figure size 432x288 with 1 Axes>"
            ]
          },
          "metadata": {
            "tags": [],
            "needs_background": "light"
          }
        }
      ]
    }
  ]
}